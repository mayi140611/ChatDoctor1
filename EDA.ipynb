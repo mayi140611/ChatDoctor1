{
 "cells": [
  {
   "cell_type": "code",
   "execution_count": 9,
   "id": "9696a6a5-8cee-424b-81d8-4bb30ff1a945",
   "metadata": {
    "tags": []
   },
   "outputs": [],
   "source": [
    "import pandas as pd\n",
    "import json\n",
    "def read_from_json_file(fp, encoding='utf-8'):\n",
    "    with open(fp, 'r', encoding='utf-8') as f:\n",
    "        data1 = json.load(f)\n",
    "    return data1"
   ]
  },
  {
   "cell_type": "code",
   "execution_count": 2,
   "id": "600df1ba-51c0-46f5-816f-b0663949d6a3",
   "metadata": {
    "tags": []
   },
   "outputs": [
    {
     "name": "stdout",
     "output_type": "stream",
     "text": [
      "HealthCareMagic-100k.json iCliniq.json\n"
     ]
    }
   ],
   "source": [
    "!ls data"
   ]
  },
  {
   "cell_type": "markdown",
   "id": "35884006-c018-4936-9673-6df831db1677",
   "metadata": {},
   "source": [
    "# icliniq-10k\n",
    "Real conversations between patients and doctors from icliniq.com ."
   ]
  },
  {
   "cell_type": "code",
   "execution_count": 3,
   "id": "350b5ad0-973a-4576-be1c-cfa8e0b73275",
   "metadata": {
    "tags": []
   },
   "outputs": [],
   "source": [
    "iCliniq = read_from_json_file('./data/iCliniq.json')"
   ]
  },
  {
   "cell_type": "code",
   "execution_count": 4,
   "id": "d27d9869-69d1-4910-bbad-e1af7590d3dc",
   "metadata": {
    "tags": []
   },
   "outputs": [
    {
     "data": {
      "text/plain": [
       "7321"
      ]
     },
     "execution_count": 4,
     "metadata": {},
     "output_type": "execute_result"
    }
   ],
   "source": [
    "len(iCliniq)"
   ]
  },
  {
   "cell_type": "code",
   "execution_count": 5,
   "id": "dd50536b-74a0-4c24-8646-9fd4348fb312",
   "metadata": {
    "tags": []
   },
   "outputs": [
    {
     "data": {
      "text/plain": [
       "{'input': 'Hello doctor,I had mumps five months ago and after that, I started to have an infection in my left testes. It was swollen and now it has shrunk to almost half the size of the other one. As I am sexually active, I feel a pain in each of the vas deferens after sex. If I do not have sex for days, they become sensitive. I was treated with Ceftum 500 mg, the first time I had an infection. Now my question is, is there any chance that the infection is still in my body? And, do I need to get examined for it? For the time being, please suggest some precautionary antibiotics for my relief.',\n",
       " 'answer_icliniq': 'Hello, Welcome to Chat Doctor forum. I can understand your concern. You had mumps and this is a viral infection known to cause an inflammation of the testis in some cases. Take care. For more information consult a sexologist online ',\n",
       " 'answer_chatgpt': \"It is possible that you still have an infection in your testes, especially if you have been experiencing pain and sensitivity in your vas deferens. It is recommended that you consult with a doctor or urologist for an examination and further testing to determine if there is an ongoing infection.\\n\\nAs an AI language model, I cannot prescribe medications or antibiotics. However, taking antibiotics without a doctor's prescription is not recommended. It is important to consult with a healthcare professional for proper diagnosis and treatment.\",\n",
       " 'answer_chatdoctor': '1) There is no need to worry about reinfection as the infection caused by Mumps virus does not persist in the body and is completely cleared up by the immune system.2) The swelling at your scrotum is due to inflammation of epididymis or vas deferens which is a result of mumps infection.3) There is no need to take antibiotics for this problem. You can take anti-inflammatory medicines like Ibuprofen for symptomatic relief.4) Doing cool compresses over the scrotal area will help in reducing the inflammation and pain.'}"
      ]
     },
     "execution_count": 5,
     "metadata": {},
     "output_type": "execute_result"
    }
   ],
   "source": [
    "iCliniq[0]"
   ]
  },
  {
   "cell_type": "markdown",
   "id": "63697edb-b3e6-4795-9c84-d169eae5c79c",
   "metadata": {},
   "source": [
    "# HealthCareMagic-100k"
   ]
  },
  {
   "cell_type": "code",
   "execution_count": 6,
   "id": "aff7409c-9661-4631-8365-1bf047fd2deb",
   "metadata": {
    "tags": []
   },
   "outputs": [],
   "source": [
    "hc = read_from_json_file('./data/HealthCareMagic-100k.json')"
   ]
  },
  {
   "cell_type": "code",
   "execution_count": 7,
   "id": "88286797-80de-4bcd-9596-c57477034ba6",
   "metadata": {
    "tags": []
   },
   "outputs": [
    {
     "data": {
      "text/plain": [
       "112165"
      ]
     },
     "execution_count": 7,
     "metadata": {},
     "output_type": "execute_result"
    }
   ],
   "source": [
    "len(hc)"
   ]
  },
  {
   "cell_type": "code",
   "execution_count": 8,
   "id": "015aa6d4-789e-4050-8da8-3590af5828ee",
   "metadata": {
    "tags": []
   },
   "outputs": [
    {
     "data": {
      "text/plain": [
       "{'instruction': \"If you are a doctor, please answer the medical questions based on the patient's description.\",\n",
       " 'input': 'I woke up this morning feeling the whole room is spinning when i was sitting down. I went to the bathroom walking unsteadily, as i tried to focus i feel nauseous. I try to vomit but it wont come out.. After taking panadol and sleep for few hours, i still feel the same.. By the way, if i lay down or sit down, my head do not spin, only when i want to move around then i feel the whole world is spinning.. And it is normal stomach discomfort at the same time? Earlier after i relieved myself, the spinning lessen so i am not sure whether its connected or coincidences.. Thank you doc!',\n",
       " 'output': 'Hi, Thank you for posting your query. The most likely cause for your symptoms is benign paroxysmal positional vertigo (BPPV), a type of peripheral vertigo. In this condition, the most common symptom is dizziness or giddiness, which is made worse with movements. Accompanying nausea and vomiting are common. The condition is due to problem in the ear, and improves in a few days on own. Betahistine tablets would help relieve your symptoms. Doing vestibular rehabilitation or adaptation exercises would prevent the recurrence of these symptoms. An ENT evaluation would also help. I hope it helps. Best wishes, Chat Doctor. '}"
      ]
     },
     "execution_count": 8,
     "metadata": {},
     "output_type": "execute_result"
    }
   ],
   "source": [
    "hc[0]"
   ]
  },
  {
   "cell_type": "markdown",
   "id": "3cc5fda3-73f1-4be6-8ddc-0c27f869c931",
   "metadata": {},
   "source": [
    "## 数据清洗"
   ]
  },
  {
   "cell_type": "code",
   "execution_count": 18,
   "id": "2805a557-70fe-4259-a0de-f20bee852a11",
   "metadata": {
    "tags": []
   },
   "outputs": [],
   "source": [
    "import re"
   ]
  },
  {
   "cell_type": "code",
   "execution_count": 190,
   "id": "32b5154f-7299-49ed-972b-610ae7a324ef",
   "metadata": {
    "tags": []
   },
   "outputs": [],
   "source": [
    "p1 = '(?:Hello|Hi|Dear|Namaste)?,?\\s*Welcome to ChatDoctor'"
   ]
  },
  {
   "cell_type": "code",
   "execution_count": 218,
   "id": "c9289eff-b086-4f67-9cb0-eacd8bf125d0",
   "metadata": {
    "tags": []
   },
   "outputs": [],
   "source": [
    "p2 = \"\"\"Hello, Thanks for consulting ChatDoctor\n",
    "thanks for posting query at ChatDoctor\n",
    "Thank you for posting your query at ChatDoctor\n",
    "Hi, greetings from ChatDoctor\\.\n",
    "Hello and thank you for using Healthcare magic\\.\n",
    "Thanks for contacting ChatDoctor\n",
    "Hello thank You for contacting ChatDoctor\n",
    "Thank you for the inquiry through ChatDoctor\n",
    "Hello Thanks for writing to ChatDoctor\n",
    "HelloThanks for writing to ChatDoctor\n",
    "Hello thanks for asking from ChatDoctor\n",
    "Thanks for your query on ChatDoctor\n",
    "Hello and thank you for asking in ChatDoctor\n",
    "Hi Welcome to the ChatDoctor\n",
    "Hi, Thanks for using ChatDoctor\n",
    "DEAR USER, THANKS FOR CONSULTING WITH ChatDoctor\n",
    "Thanks to ChatDoctor|Welcome to the ChatDoctor\n",
    "Howell come to ChatDoctor\n",
    "Hithanks for your query on ChatDoctor\n",
    "HIT hank for asking to ChatDoctor\n",
    "HIT hank for asking the ChatDoctor\n",
    "HiT hank you for asking ChatDoctor\n",
    "HiT hanks for posting on ChatDoctor\n",
    "HiT hanks for posting you query on ChatDoctor\n",
    "HIT hank for choosing ChatDoctor\n",
    "Hi dear thanks for the query on ChatDoctor\n",
    "Thank you, ChatDoctorInfectious diseases specialist\\.?\n",
    "Please hit thank you for me if you are helped\\.?\n",
    "Thank you\\.? ChatDoctorInfectious diseases specialist\\.?\n",
    "DEAR OVERTHINKS FOR CONSULTING AT ChatDoctor\n",
    "Stay HealthyChatDoctor, MD\n",
    "Stay Healthy\\.? ChatDoctor, MD\n",
    "Thanks for your query at ChatDoctor\n",
    "For more details you can ask me through: http://www\\.ChatDoctor \\.com/doctors/ Chat Doctor\\.\n",
    "Thank you, ChatDoctorInfectious diseases? specialist\\.?\n",
    "Wish you the best health at Chat Doctor\\.?\n",
    "\\s*at: http://www\\.ChatDoctor \\.com/doctors/ Chat Doctor\\s*\n",
    "\\s*Best wishes, Chat Doctor\\. Ly/\\s*\n",
    "Infectious Disease specialist wish you the best health at Chat Doctor\\.\n",
    "You can ask a direct question to me on this forum, following the below link\\.http://www\\.ChatDoctor \\.com/doctors/ Chat Doctor\\. Thank you\n",
    "Contact me through customer care, www.ChatDoctor \\.com\\.\n",
    "You can get back with answers at the following link - www\\.ChatDoctor \\.com/doctors/ Chat Doctor\\.\n",
    ",anything to ask do not hesitate to ask\\.http://doctor\\.ChatDoctor \\.com/doctors/ Chat Doctor\n",
    "Do not hesitate to ask\\.http://doctor\\.ChatDoctor \\.com/doctors/ Chat Doctor\\.\n",
    "ChatDoctor BagdeConsultant Ob gone\\.\n",
    "You can ask a direct question to me on this forum, following the below link\\.https://urldefense\\.com/v3/__http://www\\.ChatDoctor \\.com/doctors\n",
    "Thank you, ChatDoctor\n",
    "\\s*on bit\\.ly/(?: Chat Doctor\\.?\\s*, ChatDoctor\\.)?\\s*\n",
    "You can also attach Lab reports and pictures directly from the question window, or by emailing it to attachments@ChatDoctor \\.com with the Subject as, Attention:\\s*\n",
    "Chat Doctor\\. , ChatDoctor\\.\n",
    "\\s*at: http://www\\.ChatDoctor \\.com/doctors/\n",
    "\\s*Yours sincerely, ChatDoctor\\.?\"\"\".split('\\n')\n",
    "p2 = '|'.join(p2)"
   ]
  },
  {
   "cell_type": "code",
   "execution_count": 192,
   "id": "7230ea80-915e-478e-a2e7-3f7f7d64849d",
   "metadata": {
    "tags": []
   },
   "outputs": [],
   "source": [
    "p3 = '([cgtps])chatdoctor(e|es|p|ing|bin|m|fort)'"
   ]
  },
  {
   "cell_type": "code",
   "execution_count": 168,
   "id": "d21209b0-e71f-4d9a-ba1a-8f489bf43158",
   "metadata": {
    "tags": []
   },
   "outputs": [
    {
     "data": {
      "text/plain": [
       "'dizzy spell which comes on for'"
      ]
     },
     "execution_count": 168,
     "metadata": {},
     "output_type": "execute_result"
    }
   ],
   "source": [
    "s3 = \"dizzy spell whicChatDoctores on for\"\n",
    "# re.findall(p3, s3, re.IGNORECASE)\n",
    "re.sub(p3, '\\\\1h com\\\\2', s3, flags=re.IGNORECASE)"
   ]
  },
  {
   "cell_type": "code",
   "execution_count": 214,
   "id": "afe08a5d-e5e9-45b6-8cde-de4289fd9b65",
   "metadata": {
    "tags": []
   },
   "outputs": [
    {
     "data": {
      "text/plain": [
       "[' on bit.ly/ Chat Doctor. , ChatDoctor.']"
      ]
     },
     "execution_count": 214,
     "metadata": {},
     "output_type": "execute_result"
    }
   ],
   "source": [
    "s2 = 'your further concern on bit.ly/ Chat Doctor. , ChatDoctor.'\n",
    "\n",
    "re.findall(p2, s2, re.IGNORECASE)"
   ]
  },
  {
   "cell_type": "code",
   "execution_count": 141,
   "id": "86104ca8-2cd3-4576-9795-7499319a8e44",
   "metadata": {
    "tags": []
   },
   "outputs": [],
   "source": [
    "s1 = \"Hello, welcome to ChatDoctorH. Pylori is\""
   ]
  },
  {
   "cell_type": "code",
   "execution_count": 99,
   "id": "13e3d9e8-2faa-4ce2-9ce9-f51f9b1c13b4",
   "metadata": {
    "tags": []
   },
   "outputs": [
    {
     "data": {
      "text/plain": [
       "['Hello, welcome to ChatDoctor']"
      ]
     },
     "execution_count": 99,
     "metadata": {},
     "output_type": "execute_result"
    }
   ],
   "source": [
    "re.findall(p1, s1, re.IGNORECASE)"
   ]
  },
  {
   "cell_type": "code",
   "execution_count": 100,
   "id": "bdfd4dcf-2c62-4b79-a93d-8f272b7f31ea",
   "metadata": {
    "tags": []
   },
   "outputs": [
    {
     "data": {
      "text/plain": [
       "'H. Pylori is'"
      ]
     },
     "execution_count": 100,
     "metadata": {},
     "output_type": "execute_result"
    }
   ],
   "source": [
    "re.sub(p1, '', s1, flags=re.IGNORECASE)"
   ]
  },
  {
   "cell_type": "code",
   "execution_count": 219,
   "id": "8bed2531-3ed9-4bd8-b637-63ca4ca023a4",
   "metadata": {
    "tags": []
   },
   "outputs": [],
   "source": [
    "with open('data/HealthCareMagic-100k_v0_1.json') as f:\n",
    "    data = f.read()"
   ]
  },
  {
   "cell_type": "code",
   "execution_count": 220,
   "id": "37f5ba20-65e6-4337-a1a7-391a05d9d9e1",
   "metadata": {
    "tags": []
   },
   "outputs": [],
   "source": [
    "data = re.sub(p1, '', data, flags=re.IGNORECASE)\n",
    "\n",
    "data = re.sub(p2, '', data, flags=re.IGNORECASE)\n",
    "data = re.sub(p3, '\\\\1h com\\\\2', data, flags=re.IGNORECASE)"
   ]
  },
  {
   "cell_type": "code",
   "execution_count": 221,
   "id": "396ec542-56f4-43d8-ab9c-437476d94408",
   "metadata": {
    "tags": []
   },
   "outputs": [],
   "source": [
    "with open('data/HealthCareMagic-100k_v0_2.json', encoding='utf8', mode='w') as f:\n",
    "    f.write(data)"
   ]
  },
  {
   "cell_type": "code",
   "execution_count": null,
   "id": "2cf67fda-0f0e-4da7-a14a-a00a39c3085b",
   "metadata": {},
   "outputs": [],
   "source": []
  },
  {
   "cell_type": "code",
   "execution_count": null,
   "id": "488c4663-01d0-4bd0-bca9-125c00cfbcc9",
   "metadata": {},
   "outputs": [],
   "source": []
  },
  {
   "cell_type": "code",
   "execution_count": null,
   "id": "3c16b090-3933-4011-a001-a5dd884ea291",
   "metadata": {},
   "outputs": [],
   "source": []
  },
  {
   "cell_type": "code",
   "execution_count": null,
   "id": "f8844172-aeda-4516-810c-21c50c2b1406",
   "metadata": {},
   "outputs": [],
   "source": []
  },
  {
   "cell_type": "code",
   "execution_count": null,
   "id": "adddd0e7-ce1c-43ce-902b-805ba61cb596",
   "metadata": {},
   "outputs": [],
   "source": []
  },
  {
   "cell_type": "code",
   "execution_count": null,
   "id": "19652949-3954-4e0d-ae9e-e58c99f522f3",
   "metadata": {},
   "outputs": [],
   "source": []
  },
  {
   "cell_type": "code",
   "execution_count": null,
   "id": "551476f0-114a-4227-9928-64ad2079fcfa",
   "metadata": {},
   "outputs": [],
   "source": []
  },
  {
   "cell_type": "markdown",
   "id": "3127ae1a-8042-42da-9090-a92dfd315f5f",
   "metadata": {
    "tags": []
   },
   "source": [
    "# GenMedGPT"
   ]
  },
  {
   "cell_type": "code",
   "execution_count": 15,
   "id": "65bae546-398e-4ad3-9493-8ad83fc8806a",
   "metadata": {
    "tags": []
   },
   "outputs": [],
   "source": [
    "GenMedGPT = read_from_json_file('./data/GenMedGPT-5k.json')"
   ]
  },
  {
   "cell_type": "code",
   "execution_count": 16,
   "id": "1d7ad4c7-27ba-468f-90f7-6c5fb34a92ce",
   "metadata": {
    "tags": []
   },
   "outputs": [
    {
     "data": {
      "text/plain": [
       "5452"
      ]
     },
     "execution_count": 16,
     "metadata": {},
     "output_type": "execute_result"
    }
   ],
   "source": [
    "len(GenMedGPT)"
   ]
  },
  {
   "cell_type": "code",
   "execution_count": 17,
   "id": "49f15183-4795-4e5c-ba4f-53bacc139e89",
   "metadata": {
    "tags": []
   },
   "outputs": [
    {
     "data": {
      "text/plain": [
       "{'instruction': \"If you are a doctor, please answer the medical questions based on the patient's description.\",\n",
       " 'input': \"Doctor, I have been experiencing sudden and frequent panic attacks. I don't know what to do.\",\n",
       " 'output': \"Well, based on what you're telling me, it sounds like you may be suffering from panic disorder. The best course of action is to start with psychotherapy and mental health counseling. Additionally, we should conduct an electrocardiogram to make sure that there are no physical issues causing your panic attacks. We will also need to perform a depression screen and a toxicology screen to rule out any other underlying causes. Finally, I would recommend a comprehensive psychological and psychiatric evaluation and therapy to help manage your symptoms.\"}"
      ]
     },
     "execution_count": 17,
     "metadata": {},
     "output_type": "execute_result"
    }
   ],
   "source": [
    "GenMedGPT[0]"
   ]
  },
  {
   "cell_type": "markdown",
   "id": "e02d5773-f3ad-4f14-977b-45182510c9b6",
   "metadata": {},
   "source": [
    "# format_dataset.csv"
   ]
  },
  {
   "cell_type": "code",
   "execution_count": 11,
   "id": "5ef775e3-d5c9-4cba-ac77-40869718ba35",
   "metadata": {
    "tags": []
   },
   "outputs": [],
   "source": [
    "df = pd.read_csv(\"format_dataset.csv\")"
   ]
  },
  {
   "cell_type": "code",
   "execution_count": 13,
   "id": "4afe2afd-4a3d-41c7-9d03-f1f90d591ab1",
   "metadata": {
    "tags": []
   },
   "outputs": [
    {
     "data": {
      "text/plain": [
       "(796, 6)"
      ]
     },
     "execution_count": 13,
     "metadata": {},
     "output_type": "execute_result"
    }
   ],
   "source": [
    "df.shape"
   ]
  },
  {
   "cell_type": "code",
   "execution_count": 12,
   "id": "fba6ef95-8824-457a-84bf-085c6c625ccd",
   "metadata": {
    "tags": []
   },
   "outputs": [
    {
     "data": {
      "text/html": [
       "<div>\n",
       "<style scoped>\n",
       "    .dataframe tbody tr th:only-of-type {\n",
       "        vertical-align: middle;\n",
       "    }\n",
       "\n",
       "    .dataframe tbody tr th {\n",
       "        vertical-align: top;\n",
       "    }\n",
       "\n",
       "    .dataframe thead th {\n",
       "        text-align: right;\n",
       "    }\n",
       "</style>\n",
       "<table border=\"1\" class=\"dataframe\">\n",
       "  <thead>\n",
       "    <tr style=\"text-align: right;\">\n",
       "      <th></th>\n",
       "      <th>idx</th>\n",
       "      <th>disease</th>\n",
       "      <th>Symptom</th>\n",
       "      <th>reason</th>\n",
       "      <th>TestsAndProcedures</th>\n",
       "      <th>commonMedications</th>\n",
       "    </tr>\n",
       "  </thead>\n",
       "  <tbody>\n",
       "    <tr>\n",
       "      <th>0</th>\n",
       "      <td>0</td>\n",
       "      <td>Panic disorder</td>\n",
       "      <td>['Anxiety and nervousness', 'Depression', 'Sho...</td>\n",
       "      <td>Panic disorder is an anxiety disorder characte...</td>\n",
       "      <td>['Psychotherapy', 'Mental health counseling', ...</td>\n",
       "      <td>['Lorazepam', 'Alprazolam (Xanax)', 'Clonazepa...</td>\n",
       "    </tr>\n",
       "    <tr>\n",
       "      <th>1</th>\n",
       "      <td>1</td>\n",
       "      <td>Vocal cord polyp</td>\n",
       "      <td>['Hoarse voice', 'Sore throat', 'Difficulty sp...</td>\n",
       "      <td>beclomethasone nasal product,</td>\n",
       "      <td>['Tracheoscopy and laryngoscopy with biopsy', ...</td>\n",
       "      <td>['Esomeprazole (Nexium)', 'Beclomethasone Nasa...</td>\n",
       "    </tr>\n",
       "  </tbody>\n",
       "</table>\n",
       "</div>"
      ],
      "text/plain": [
       "   idx           disease                                            Symptom  \\\n",
       "0    0    Panic disorder  ['Anxiety and nervousness', 'Depression', 'Sho...   \n",
       "1    1  Vocal cord polyp  ['Hoarse voice', 'Sore throat', 'Difficulty sp...   \n",
       "\n",
       "                                              reason  \\\n",
       "0  Panic disorder is an anxiety disorder characte...   \n",
       "1                     beclomethasone nasal product,    \n",
       "\n",
       "                                  TestsAndProcedures  \\\n",
       "0  ['Psychotherapy', 'Mental health counseling', ...   \n",
       "1  ['Tracheoscopy and laryngoscopy with biopsy', ...   \n",
       "\n",
       "                                   commonMedications  \n",
       "0  ['Lorazepam', 'Alprazolam (Xanax)', 'Clonazepa...  \n",
       "1  ['Esomeprazole (Nexium)', 'Beclomethasone Nasa...  "
      ]
     },
     "execution_count": 12,
     "metadata": {},
     "output_type": "execute_result"
    }
   ],
   "source": [
    "df.head(2)"
   ]
  },
  {
   "cell_type": "code",
   "execution_count": null,
   "id": "1f383f24-d27a-45de-b966-7adf2a779b11",
   "metadata": {},
   "outputs": [],
   "source": []
  }
 ],
 "metadata": {
  "kernelspec": {
   "display_name": "Python 3 (ipykernel)",
   "language": "python",
   "name": "python3"
  },
  "language_info": {
   "codemirror_mode": {
    "name": "ipython",
    "version": 3
   },
   "file_extension": ".py",
   "mimetype": "text/x-python",
   "name": "python",
   "nbconvert_exporter": "python",
   "pygments_lexer": "ipython3",
   "version": "3.11.5"
  }
 },
 "nbformat": 4,
 "nbformat_minor": 5
}
